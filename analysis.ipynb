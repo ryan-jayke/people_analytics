{
  "nbformat": 4,
  "nbformat_minor": 0,
  "metadata": {
    "colab": {
      "provenance": [],
      "authorship_tag": "ABX9TyNNDcHxJ2Dszz9nYRo/o1D4",
      "include_colab_link": true
    },
    "kernelspec": {
      "name": "python3",
      "display_name": "Python 3"
    },
    "language_info": {
      "name": "python"
    }
  },
  "cells": [
    {
      "cell_type": "markdown",
      "metadata": {
        "id": "view-in-github",
        "colab_type": "text"
      },
      "source": [
        "<a href=\"https://colab.research.google.com/github/ryan-jayke/people_analytics/blob/main/analysis.ipynb\" target=\"_parent\"><img src=\"https://colab.research.google.com/assets/colab-badge.svg\" alt=\"Open In Colab\"/></a>"
      ]
    },
    {
      "cell_type": "code",
      "execution_count": 1,
      "metadata": {
        "id": "2ORQlhwnO-Mk"
      },
      "outputs": [],
      "source": [
        "import numpy as np\n",
        "import matplotlib.pyplot as plt\n",
        "import pandas as pd"
      ]
    },
    {
      "cell_type": "code",
      "source": [
        "df = pd.read_csv('HR_Analytics.csv')\n",
        "X = df.iloc[:, :].drop(\"Attrition\", axis=1).values\n",
        "y = df.loc[:, \"Attrition\"].values"
      ],
      "metadata": {
        "id": "N_zw-e2LPLLQ"
      },
      "execution_count": 3,
      "outputs": []
    },
    {
      "cell_type": "code",
      "source": [
        "print(X)"
      ],
      "metadata": {
        "colab": {
          "base_uri": "https://localhost:8080/"
        },
        "id": "0ee58Gt2Pc2s",
        "outputId": "139ab4dd-74e6-4f80-cbb4-2d0af6aeeb2b"
      },
      "execution_count": 4,
      "outputs": [
        {
          "output_type": "stream",
          "name": "stdout",
          "text": [
            "[['RM297' 18 '18-25' ... 0 0 0.0]\n",
            " ['RM302' 18 '18-25' ... 0 0 0.0]\n",
            " ['RM458' 18 '18-25' ... 0 0 0.0]\n",
            " ...\n",
            " ['RM537' 60 '55+' ... 2 2 2.0]\n",
            " ['RM880' 60 '55+' ... 7 1 9.0]\n",
            " ['RM1210' 60 '55+' ... 0 0 0.0]]\n"
          ]
        }
      ]
    },
    {
      "cell_type": "code",
      "source": [
        "print(y)"
      ],
      "metadata": {
        "colab": {
          "base_uri": "https://localhost:8080/"
        },
        "id": "tvdbuK93Peyw",
        "outputId": "f0dd396f-0d7c-425f-9438-d012305089a5"
      },
      "execution_count": 5,
      "outputs": [
        {
          "output_type": "stream",
          "name": "stdout",
          "text": [
            "['Yes' 'No' 'Yes' ... 'No' 'No' 'No']\n"
          ]
        }
      ]
    }
  ]
}